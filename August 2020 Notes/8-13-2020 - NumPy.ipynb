{
 "cells": [
  {
   "cell_type": "markdown",
   "metadata": {},
   "source": [
    "# Intro to NumPy"
   ]
  },
  {
   "cell_type": "markdown",
   "metadata": {},
   "source": [
    "Core data structure in NumPy is the **ndarray / n-dimensional array**. An array describes a collection of elements, similar to a list."
   ]
  },
  {
   "cell_type": "markdown",
   "metadata": {},
   "source": [
    "1. First we import NumPy:"
   ]
  },
  {
   "cell_type": "code",
   "execution_count": 6,
   "metadata": {},
   "outputs": [],
   "source": [
    "import numpy as np"
   ]
  },
  {
   "cell_type": "markdown",
   "metadata": {},
   "source": [
    "2. Secondly we convert list to an ndarray using the **numpy.array()** constructor to create a 1D ndarray"
   ]
  },
  {
   "cell_type": "code",
   "execution_count": 2,
   "metadata": {},
   "outputs": [],
   "source": [
    "my_list = [5, 10, 15, 20]\n",
    "\n",
    "data_ndarray = np.array([my_list])"
   ]
  },
  {
   "cell_type": "markdown",
   "metadata": {},
   "source": [
    "The NumPy library takes advantage of a processor feature called **Single Instruction Multiple Data (SIMD)** to process data faster. SIMD allows a processor to perform the same operation, on multiple data points, in a single processor cycle:"
   ]
  },
  {
   "cell_type": "markdown",
   "metadata": {},
   "source": [
    "As a result, the NumPy version of our code would only take two processor cycles — a four times speed-up! This concept of replacing for loops with operations applied to multiple data points at once is called **vectorization** and ndarrays make vectorization possible."
   ]
  },
  {
   "cell_type": "markdown",
   "metadata": {},
   "source": [
    "It's often useful to know the number of rows and columns in an ndarray. We can use ndarray.shape attribute to see this."
   ]
  },
  {
   "cell_type": "code",
   "execution_count": 4,
   "metadata": {},
   "outputs": [],
   "source": [
    "data_ndarray = np.array([[5, 10, 15], \n",
    "                         [20, 25, 30]])"
   ]
  },
  {
   "cell_type": "code",
   "execution_count": 6,
   "metadata": {},
   "outputs": [
    {
     "name": "stdout",
     "output_type": "stream",
     "text": [
      "(2, 3)\n"
     ]
    }
   ],
   "source": [
    "print(data_ndarray.shape)  # 2 rows & 3 columns"
   ]
  },
  {
   "cell_type": "markdown",
   "metadata": {},
   "source": [
    "When selecting a row and column in an ndarray, follow the syntax:"
   ]
  },
  {
   "cell_type": "markdown",
   "metadata": {},
   "source": [
    "sel_np = data_np [1,3] "
   ]
  },
  {
   "cell_type": "markdown",
   "metadata": {},
   "source": [
    "**Alternate formats**"
   ]
  },
  {
   "cell_type": "code",
   "execution_count": 2,
   "metadata": {},
   "outputs": [],
   "source": [
    "# columns_1_4_7 = taxi[:,(1,4,7)]\n",
    "# row_99_columns_5_to_8 = taxi[99,5:9]\n",
    "# rows_100_to_200_column_14 = taxi[100:201,14]"
   ]
  },
  {
   "cell_type": "markdown",
   "metadata": {},
   "source": [
    "-------------------------------------------------------"
   ]
  },
  {
   "cell_type": "markdown",
   "metadata": {},
   "source": [
    "As we saw in the last two screens, NumPy ndarrays allow us to select data much more easily. Beyond this, the selection we make is a lot faster when working with **vectorized operations** because the operations are applied to multiple data points at once."
   ]
  },
  {
   "cell_type": "code",
   "execution_count": 4,
   "metadata": {},
   "outputs": [],
   "source": [
    "my_numbers = [\n",
    "                [6, 5],\n",
    "                [1, 3],\n",
    "                [5, 6],\n",
    "                [1, 4],\n",
    "                [3, 7],\n",
    "                [5, 8],\n",
    "                [3, 5],\n",
    "                [8, 4]\n",
    "            ]"
   ]
  },
  {
   "cell_type": "markdown",
   "metadata": {},
   "source": [
    "The result of adding two 1D ndarrays is a 1D ndarray of the same shape (or dimensions) as the original. In this context, ndarrays can also be called **vectors**, a term taken from a branch of mathematics called linear algebra. In this example, adding two vectors together, is called **vector addition**."
   ]
  },
  {
   "cell_type": "code",
   "execution_count": 9,
   "metadata": {},
   "outputs": [],
   "source": [
    "# convert the list of lists to an ndarray\n",
    "my_numbers = np.array(my_numbers)\n",
    "\n",
    "# select each of the columns - the result\n",
    "# of each will be a 1D ndarray\n",
    "col1 = my_numbers[:,0]\n",
    "col2 = my_numbers[:,1]\n",
    "\n",
    "# add the two columns\n",
    "sums = col1 + col2"
   ]
  },
  {
   "cell_type": "code",
   "execution_count": 19,
   "metadata": {},
   "outputs": [
    {
     "name": "stdout",
     "output_type": "stream",
     "text": [
      "Added numbers: [11, 4, 11, 5, 10, 13, 8, 12] \n"
     ]
    }
   ],
   "source": [
    "sums = my_numbers[:,0] + my_numbers[:,1]\n",
    "added_numbers = []\n",
    "for i in sums:\n",
    "    added_numbers.append(i)\n",
    "print(\"Added numbers: {} \".format(added_numbers))\n",
    "    "
   ]
  },
  {
   "cell_type": "markdown",
   "metadata": {},
   "source": [
    "- When we selected each column, we used the syntax ndarray[:,c] where c is the column index we wanted to select. Like we saw in the previous screen, the colon selects all rows.\n",
    "- To add the two 1D ndarrays, col1 and col2, we simply use the addition operator (+) between them."
   ]
  },
  {
   "cell_type": "markdown",
   "metadata": {},
   "source": [
    "Functions vs Methods in NumPy"
   ]
  },
  {
   "cell_type": "markdown",
   "metadata": {},
   "source": [
    "Calculate the minimum value of trip_mph --> Function: np.min(trip_mph) -->  Method: trip_mph.min()"
   ]
  },
  {
   "cell_type": "markdown",
   "metadata": {},
   "source": [
    "------------------------------"
   ]
  },
  {
   "cell_type": "markdown",
   "metadata": {},
   "source": [
    "**Statistics for 2D ndarrays**"
   ]
  },
  {
   "cell_type": "markdown",
   "metadata": {},
   "source": [
    "To determine maximum value of each row, we use axis parameter: "
   ]
  },
  {
   "cell_type": "markdown",
   "metadata": {},
   "source": [
    "We'd need to use the axis parameter and specify a **value of 1** to indicate we want to calculate the maximum value for each row."
   ]
  },
  {
   "cell_type": "markdown",
   "metadata": {},
   "source": [
    "If we want to find the maximum value of each column, we'd use an axis **value of 0**:"
   ]
  },
  {
   "cell_type": "markdown",
   "metadata": {},
   "source": [
    "Format: fare_sums = fare_components.sum(axis=1)"
   ]
  },
  {
   "cell_type": "markdown",
   "metadata": {},
   "source": [
    "**We learned** --"
   ]
  },
  {
   "cell_type": "markdown",
   "metadata": {},
   "source": [
    "- How vectorization makes our code faster.\n",
    "- About n-dimensional arrays, and NumPy's ndarrays.\n",
    "- How to select specific items, rows, columns, 1D slices, and 2D slices from ndarrays.\n",
    "- How to apply simple calculations to entire ndarrays.\n",
    "- How to use vectorized methods to perform calculations across either axis of ndarrays.- "
   ]
  },
  {
   "cell_type": "code",
   "execution_count": null,
   "metadata": {},
   "outputs": [],
   "source": []
  }
 ],
 "metadata": {
  "kernelspec": {
   "display_name": "Python 3",
   "language": "python",
   "name": "python3"
  },
  "language_info": {
   "codemirror_mode": {
    "name": "ipython",
    "version": 3
   },
   "file_extension": ".py",
   "mimetype": "text/x-python",
   "name": "python",
   "nbconvert_exporter": "python",
   "pygments_lexer": "ipython3",
   "version": "3.7.6"
  }
 },
 "nbformat": 4,
 "nbformat_minor": 4
}
