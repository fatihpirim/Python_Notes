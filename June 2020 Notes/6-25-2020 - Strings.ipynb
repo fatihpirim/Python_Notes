{
 "cells": [
  {
   "cell_type": "code",
   "execution_count": 2,
   "metadata": {},
   "outputs": [
    {
     "name": "stdout",
     "output_type": "stream",
     "text": [
      "The amount of berry we bought is 4 pounds\n"
     ]
    }
   ],
   "source": [
    "fruit = 'berry'\n",
    "veggie = 'carrot'\n",
    "amount = 4\n",
    "print('The amount of {} we bought is {} pounds'.format(fruit, amount))"
   ]
  },
  {
   "cell_type": "code",
   "execution_count": 4,
   "metadata": {},
   "outputs": [
    {
     "name": "stdout",
     "output_type": "stream",
     "text": [
      "California is the most crowded state of the USA\n"
     ]
    }
   ],
   "source": [
    "print('{0} is the most {adjective} state of the {country}'.format('California', country='USA', adjective='crowded'))"
   ]
  },
  {
   "cell_type": "code",
   "execution_count": 11,
   "metadata": {},
   "outputs": [
    {
     "name": "stdout",
     "output_type": "stream",
     "text": [
      "one , two, and three\n"
     ]
    }
   ],
   "source": [
    "print('{0} , {1}, {placeholder} {2}'.format('one', 'two', 'three',placeholder='and'))"
   ]
  },
  {
   "cell_type": "code",
   "execution_count": 14,
   "metadata": {},
   "outputs": [
    {
     "name": "stdout",
     "output_type": "stream",
     "text": [
      "Good teachers know how to bring out the best in students\n"
     ]
    }
   ],
   "source": [
    "print('{0} {1} {2} {3} {4} {5} {6} {7} {8} {9} {10}'.format('Good', 'teachers', 'know', 'how', 'to', 'bring', 'out', 'the', 'best', 'in', 'students.'))"
   ]
  },
  {
   "cell_type": "code",
   "execution_count": 16,
   "metadata": {},
   "outputs": [
    {
     "name": "stdout",
     "output_type": "stream",
     "text": [
      "my name is fatih and I am 17 years old\n"
     ]
    }
   ],
   "source": [
    "name = 'fatih'\n",
    "age = '17'\n",
    "output = f'my name is {name} and I am {age} years old'\n",
    "print(output)"
   ]
  },
  {
   "cell_type": "code",
   "execution_count": 86,
   "metadata": {},
   "outputs": [],
   "source": [
    "web_list_1 = ('usa.gov','google.com', 'amazon.com', 'house.gov', 'vt.edu', 'gmu.edu', 'usda.gov')\n",
    "web_list_2 = ('congress.gov', 'reddit.com')"
   ]
  },
  {
   "cell_type": "code",
   "execution_count": 87,
   "metadata": {},
   "outputs": [
    {
     "name": "stdout",
     "output_type": "stream",
     "text": [
      "usa.gov, google.com, amazon.com, house.gov, vt.edu, gmu.edu, usda.gov, congress.gov\n"
     ]
    }
   ],
   "source": [
    "def converttostr(input_seq, seperator):\n",
    "   # Join all the strings in list\n",
    "   final_str = seperator.join(input_seq)\n",
    "   return final_str\n",
    "seperator = ', '\n",
    "print(converttostr(websites, seperator))"
   ]
  },
  {
   "cell_type": "code",
   "execution_count": 88,
   "metadata": {},
   "outputs": [
    {
     "name": "stdout",
     "output_type": "stream",
     "text": [
      ".com websites: google.com, amazon.com, reddit.com\n",
      ".gov websites: usa.gov, house.gov, usda.gov, congress.gov\n",
      ".edu websites: vt.edu, gmu.edu\n"
     ]
    }
   ],
   "source": [
    "dotcom_webs = []  # creates empty list for each domain\n",
    "dotgov_webs = []\n",
    "dotedu_webs = []\n",
    "def web_sort(websites):  # function takes input of list of websites \n",
    "    \"\"\"sorts list of websites according to domain\"\"\"\n",
    "    for item in websites:  # for every website in the list, check if it ends with (domain)\n",
    "        if item.endswith('.com'):  # if item(website) ends with (domain):\n",
    "            dotcom_webs.append(item)  # add item(website) to appropriate website list\n",
    "        elif item.endswith('.gov'):\n",
    "            dotgov_webs.append(item)\n",
    "        elif item.endswith('edu'):\n",
    "            dotedu_webs.append(item)\n",
    "        else:\n",
    "            pass\n",
    "        \n",
    "web_sort(web_list_1)\n",
    "web_sort(web_list_2)\n",
    "      \n",
    "dotcom_webs = converttostr(dotcom_webs, seperator)  # updates dot(domain) variables from list to string\n",
    "dotgov_webs = converttostr(dotgov_webs, seperator)\n",
    "dotedu_webs = converttostr(dotedu_webs, seperator)\n",
    "\n",
    "output_dotcom = f\".com websites: {dotcom_webs}\"  # plugs in variable into appropriate print format\n",
    "output_dotgov = f\".gov websites: {dotgov_webs}\"\n",
    "output_dotedu = f\".edu websites: {dotedu_webs}\"\n",
    "\n",
    "print(output_dotcom + '\\n' + output_dotgov + '\\n' + output_dotedu)"
   ]
  },
  {
   "cell_type": "code",
   "execution_count": 91,
   "metadata": {},
   "outputs": [],
   "source": [
    "test_string = \"January February March April May\""
   ]
  },
  {
   "cell_type": "code",
   "execution_count": 93,
   "metadata": {},
   "outputs": [
    {
     "data": {
      "text/plain": [
       "True"
      ]
     },
     "execution_count": 93,
     "metadata": {},
     "output_type": "execute_result"
    }
   ],
   "source": [
    "test_string.startswith('Feb', 8)"
   ]
  },
  {
   "cell_type": "code",
   "execution_count": 161,
   "metadata": {},
   "outputs": [
    {
     "name": "stdout",
     "output_type": "stream",
     "text": [
      "J u n e   J u l y   A u g u s t   S e p t e m b e r   O c t o b e r   N o v e m b e r   \n",
      " 0 1 2 3 4 5 6 7 8 9 10 11 12 13 14 15 16 17 18 19 20 21 22 23 24 25 26 27 28 29 30 31 32 33 34 35 36 37 38 39 40 41 42 43 44 "
     ]
    }
   ],
   "source": [
    "test_string2 = \"June July August September October November \\n\"\n",
    "test_string2_position = 0\n",
    "for item in test_string2:\n",
    "    print(item, end=' ')\n",
    "for item in test_string2:\n",
    "    print(test_string2_position, end=' ')\n",
    "    test_string2_position += 1"
   ]
  },
  {
   "cell_type": "code",
   "execution_count": 162,
   "metadata": {},
   "outputs": [],
   "source": [
    "# strings are immutable. so when string is mutated a new string is formed"
   ]
  },
  {
   "cell_type": "code",
   "execution_count": 163,
   "metadata": {},
   "outputs": [],
   "source": [
    "emperor = \"Alexander the Great\""
   ]
  },
  {
   "cell_type": "code",
   "execution_count": 168,
   "metadata": {},
   "outputs": [
    {
     "data": {
      "text/plain": [
       "True"
      ]
     },
     "execution_count": 168,
     "metadata": {},
     "output_type": "execute_result"
    }
   ],
   "source": [
    "emperor.startswith((\"x\", \"y\", \"z\"), 3, len(emperor))  # True if index 3 to 19 starts with \"x\" \"y\" or \"z\""
   ]
  },
  {
   "cell_type": "code",
   "execution_count": 169,
   "metadata": {},
   "outputs": [
    {
     "data": {
      "text/plain": [
       "'kurumi'"
      ]
     },
     "execution_count": 169,
     "metadata": {},
     "output_type": "execute_result"
    }
   ],
   "source": [
    "\"k-u-r-u-m-i\".replace(\"-\", \"\")  # .replace method"
   ]
  },
  {
   "cell_type": "code",
   "execution_count": 184,
   "metadata": {},
   "outputs": [
    {
     "name": "stdout",
     "output_type": "stream",
     "text": [
      "I Live And Work In Virginia\n",
      "I l#ve and work #n V#rg#n#a\n",
      "i LIVE AND WORK IN vIRGINIA\n",
      "I live and work in virginia\n"
     ]
    }
   ],
   "source": [
    "sentence = \"I live and work in Virginia\"\n",
    "title_sentence = sentence.title()\n",
    "print(title_sentence)\n",
    "\n",
    "changed_sentence = sentence.replace(\"i\", \"#\")\n",
    "print(changed_sentence)\n",
    "\n",
    "uppercase_sentence = sentence.swapcase()\n",
    "print(uppercase_sentence)\n",
    "\n",
    "inversecase = uppercase_sentence.capitalize()\n",
    "print(inversecase)"
   ]
  },
  {
   "cell_type": "code",
   "execution_count": 185,
   "metadata": {},
   "outputs": [
    {
     "name": "stdout",
     "output_type": "stream",
     "text": [
      "Sodome and Gomore\n"
     ]
    }
   ],
   "source": [
    "text = 'S0d0me and G0m0re'\n",
    "print(text.replace('0', 'o'))"
   ]
  },
  {
   "cell_type": "code",
   "execution_count": null,
   "metadata": {},
   "outputs": [],
   "source": []
  }
 ],
 "metadata": {
  "kernelspec": {
   "display_name": "Python 3",
   "language": "python",
   "name": "python3"
  },
  "language_info": {
   "codemirror_mode": {
    "name": "ipython",
    "version": 3
   },
   "file_extension": ".py",
   "mimetype": "text/x-python",
   "name": "python",
   "nbconvert_exporter": "python",
   "pygments_lexer": "ipython3",
   "version": "3.7.6"
  }
 },
 "nbformat": 4,
 "nbformat_minor": 4
}
