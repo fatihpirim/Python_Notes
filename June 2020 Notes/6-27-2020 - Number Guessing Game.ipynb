{
 "cells": [
  {
   "cell_type": "code",
   "execution_count": null,
   "metadata": {},
   "outputs": [],
   "source": [
    "import random\n",
    "import math\n",
    "\n",
    "random_num = 0\n",
    "user_guess = 0\n",
    "chances = 20\n",
    "print(\"guess the number!\")\n",
    "print(\"chances: \" + str(chances))\n",
    "print(\"-----------------------\")\n",
    "random_num = random.randrange(0,1000)\n",
    "while True:\n",
    "        user_guess = int(input())\n",
    "        \n",
    "        if chances <= 0:  # checks if player has enough chances to guess\n",
    "            print(\"game over! you lose.\")\n",
    "            break  # ends game if player is out of chances\n",
    "            \n",
    "        if user_guess < random_num:\n",
    "            chances -= 1  # subtracts 1 chance every time player guesses\n",
    "            print(\"go higher.\")\n",
    "            print(\"chances: \" + str(chances)) \n",
    "            print(\"-----------------------\")\n",
    "        elif user_guess > random_num:\n",
    "            chances -= 1\n",
    "            print(\"go lower.\")\n",
    "            print(\"chances: \" + str(chances))\n",
    "            print(\"-----------------------\")\n",
    "        else:\n",
    "            print(f\"good job! {random_num} is the right number.\")\n",
    "            break"
   ]
  },
  {
   "cell_type": "code",
   "execution_count": null,
   "metadata": {},
   "outputs": [],
   "source": []
  },
  {
   "cell_type": "code",
   "execution_count": null,
   "metadata": {},
   "outputs": [],
   "source": []
  }
 ],
 "metadata": {
  "kernelspec": {
   "display_name": "Python 3",
   "language": "python",
   "name": "python3"
  },
  "language_info": {
   "codemirror_mode": {
    "name": "ipython",
    "version": 3
   },
   "file_extension": ".py",
   "mimetype": "text/x-python",
   "name": "python",
   "nbconvert_exporter": "python",
   "pygments_lexer": "ipython3",
   "version": "3.7.6"
  }
 },
 "nbformat": 4,
 "nbformat_minor": 4
}
