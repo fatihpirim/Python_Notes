{
 "cells": [
  {
   "cell_type": "code",
   "execution_count": null,
   "metadata": {},
   "outputs": [],
   "source": [
    "# Assignment-1 (Weekly Profit)\n",
    "def weekly_profit():\n",
    "    initial_capital = input(\"$\")\n",
    "    final_profit = 7*(float(initial_capital) * .07) + float(initial_capital)\n",
    "    print(\"$\" + str(int(final_profit)))\n",
    "weekly_profit()"
   ]
  },
  {
   "cell_type": "code",
   "execution_count": null,
   "metadata": {},
   "outputs": [],
   "source": [
    "# Assignment-2 (Covid-19 Possibility)\n",
    "age = True\n",
    "chronic = False\n",
    "immune = False\n",
    "risk = 0\n",
    "if age == True or chronic == True or immune == True:\n",
    "    risk == True\n",
    "    print(\"There is a risk of death\")\n",
    "else:\n",
    "    risk == False\n",
    "    print(\"There is no risk of death\")"
   ]
  },
  {
   "cell_type": "code",
   "execution_count": null,
   "metadata": {},
   "outputs": [],
   "source": [
    "# Assignment-3 (Measure Converter)"
   ]
  },
  {
   "cell_type": "code",
   "execution_count": null,
   "metadata": {},
   "outputs": [],
   "source": [
    "# Task 1:\n",
    "celsius_input = input(\"Enter celsius: \")\n",
    "def clsius_to_fhrnht():\n",
    "    fahrenheit_output = ((int(celsius_input)*(9/5)) + 32)\n",
    "    print(str(celsius_input) + \"°C is: \" + str(int(fahrenheit_output)) + \"°F\")\n",
    "clsius_to_fhrnht()"
   ]
  },
  {
   "cell_type": "code",
   "execution_count": null,
   "metadata": {},
   "outputs": [],
   "source": [
    "# Task 2:\n",
    "km_input = input(\"Enter km: \")\n",
    "def km_to_miles():\n",
    "    miles_output = (int(km_input)*0.621371)\n",
    "    print(str(km_input) + \" km is: \" + str(int(miles_output)) + \" miles\")\n",
    "km_to_miles()"
   ]
  },
  {
   "cell_type": "code",
   "execution_count": null,
   "metadata": {},
   "outputs": [],
   "source": [
    "# Assignment-4 (Boolean Truthy)\n",
    "print(not 0 and \"write me\")"
   ]
  },
  {
   "cell_type": "code",
   "execution_count": 10,
   "metadata": {},
   "outputs": [
    {
     "name": "stdout",
     "output_type": "stream",
     "text": [
      "Enter a year: 2008\n",
      "True\n"
     ]
    }
   ],
   "source": [
    "# Assignment-5 (Leap Year)\n",
    "input_year = int(input(\"Enter a year: \"))\n",
    "print((input_year % 4 == 0) and ( (input_year % 100 != 0) or (input_year % 100 == 0 and input_year % 400 == 0)) )\n",
    "# print True if: divisible by 4 and not 100 -- OR -- divisible by 4,100, and 400"
   ]
  },
  {
   "cell_type": "code",
   "execution_count": 9,
   "metadata": {},
   "outputs": [
    {
     "name": "stdout",
     "output_type": "stream",
     "text": [
      "\n"
     ]
    }
   ],
   "source": []
  },
  {
   "cell_type": "code",
   "execution_count": null,
   "metadata": {},
   "outputs": [],
   "source": []
  }
 ],
 "metadata": {
  "kernelspec": {
   "display_name": "Python 3",
   "language": "python",
   "name": "python3"
  },
  "language_info": {
   "codemirror_mode": {
    "name": "ipython",
    "version": 3
   },
   "file_extension": ".py",
   "mimetype": "text/x-python",
   "name": "python",
   "nbconvert_exporter": "python",
   "pygments_lexer": "ipython3",
   "version": "3.7.6"
  }
 },
 "nbformat": 4,
 "nbformat_minor": 4
}
