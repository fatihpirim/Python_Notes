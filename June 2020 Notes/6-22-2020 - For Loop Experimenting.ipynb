{
 "cells": [
  {
   "cell_type": "code",
   "execution_count": 1,
   "metadata": {},
   "outputs": [],
   "source": [
    "# introduction to loops"
   ]
  },
  {
   "cell_type": "code",
   "execution_count": 2,
   "metadata": {},
   "outputs": [],
   "source": [
    "a = [\"Simon\", \"Kamina\", \"Yoko\"]"
   ]
  },
  {
   "cell_type": "code",
   "execution_count": 5,
   "metadata": {},
   "outputs": [
    {
     "name": "stdout",
     "output_type": "stream",
     "text": [
      "['Simon', 'Kamina', 'Yoko']\n"
     ]
    }
   ],
   "source": [
    "print(a[0:])"
   ]
  },
  {
   "cell_type": "code",
   "execution_count": 6,
   "metadata": {},
   "outputs": [
    {
     "name": "stdout",
     "output_type": "stream",
     "text": [
      "Simon\n",
      "Kamina\n",
      "Yoko\n"
     ]
    }
   ],
   "source": [
    "for element in a:\n",
    "    print(element)"
   ]
  },
  {
   "cell_type": "code",
   "execution_count": 7,
   "metadata": {},
   "outputs": [],
   "source": [
    "b =[20, 10, 5]"
   ]
  },
  {
   "cell_type": "code",
   "execution_count": 13,
   "metadata": {},
   "outputs": [
    {
     "name": "stdout",
     "output_type": "stream",
     "text": [
      "35\n"
     ]
    }
   ],
   "source": [
    "total = 0\n",
    "for x in b:\n",
    "    total = total + x\n",
    "print(total)\n"
   ]
  },
  {
   "cell_type": "code",
   "execution_count": 26,
   "metadata": {},
   "outputs": [
    {
     "data": {
      "text/plain": [
       "range(0, 101)"
      ]
     },
     "execution_count": 26,
     "metadata": {},
     "output_type": "execute_result"
    }
   ],
   "source": [
    "range(0,101)"
   ]
  },
  {
   "cell_type": "code",
   "execution_count": 40,
   "metadata": {},
   "outputs": [
    {
     "data": {
      "text/plain": [
       "100"
      ]
     },
     "execution_count": 40,
     "metadata": {},
     "output_type": "execute_result"
    }
   ],
   "source": [
    "numbers = list(range(0,1))\n",
    "numbers[100]\n",
    "numbers[-1]"
   ]
  },
  {
   "cell_type": "code",
   "execution_count": 34,
   "metadata": {},
   "outputs": [],
   "source": [
    "def num_range_sum(max):\n",
    "    \"\"\"user identifies max number. method adds all numbers in range consecutively till max number.\"\"\"\n",
    "    numbers = list(range(0,1))\n",
    "    sum = 0\n",
    "    new_num = 0\n",
    "    for element in numbers:\n",
    "        if new_num != max + 1:\n",
    "            sum = sum + element\n",
    "            new_num = numbers[-1] + 1\n",
    "            numbers.append(new_num)\n",
    "        else:\n",
    "            print(sum)"
   ]
  },
  {
   "cell_type": "code",
   "execution_count": 36,
   "metadata": {},
   "outputs": [
    {
     "name": "stdout",
     "output_type": "stream",
     "text": [
      "45150\n"
     ]
    }
   ],
   "source": [
    "num_range_sum(300)"
   ]
  },
  {
   "cell_type": "code",
   "execution_count": 43,
   "metadata": {},
   "outputs": [],
   "source": [
    "def num_range_sum_v2(max):\n",
    "    \"\"\"user identifies max number. method adds all numbers in range consecutively till max number.\"\"\"\n",
    "    sum = 0\n",
    "    numbers = list(range(0,(max + 1)))\n",
    "    for element in numbers:\n",
    "        sum += element\n",
    "    print(sum)"
   ]
  },
  {
   "cell_type": "code",
   "execution_count": 67,
   "metadata": {},
   "outputs": [
    {
     "name": "stdout",
     "output_type": "stream",
     "text": [
      "1000405\n"
     ]
    }
   ],
   "source": [
    "num_range_sum_v2(1414)"
   ]
  },
  {
   "cell_type": "code",
   "execution_count": 45,
   "metadata": {},
   "outputs": [],
   "source": [
    "# for loops allow you to do something for every element in a datatype/dataset. evaluate for each element"
   ]
  },
  {
   "cell_type": "code",
   "execution_count": 63,
   "metadata": {},
   "outputs": [],
   "source": [
    "def num_range_max(limit):\n",
    "    \"\"\"adds numbers to limit consecutively. outputs the count at which the sum reaches limit \"\"\"\n",
    "    numbers = list(range(0,1))\n",
    "    sum = 0\n",
    "    new_num = 0\n",
    "    for element in numbers:\n",
    "        if sum <= limit:\n",
    "            sum = sum + element\n",
    "            new_num = numbers[-1] + 1\n",
    "            numbers.append(new_num)\n",
    "        else:\n",
    "            print(new_num - 1)"
   ]
  },
  {
   "cell_type": "code",
   "execution_count": 64,
   "metadata": {},
   "outputs": [
    {
     "name": "stdout",
     "output_type": "stream",
     "text": [
      "1414\n"
     ]
    }
   ],
   "source": [
    "num_range_max(1000000)"
   ]
  },
  {
   "cell_type": "code",
   "execution_count": 92,
   "metadata": {},
   "outputs": [
    {
     "name": "stdout",
     "output_type": "stream",
     "text": [
      "50\n",
      "50\n"
     ]
    }
   ],
   "source": [
    "no_list = list(range(0, 100))\n",
    "even_num = 0\n",
    "odd_num = 0\n",
    "for e in no_list:\n",
    "    if e % 2 == 0:  # use % 2 to check even or odd\n",
    "        even_num += 1\n",
    "    elif e % 2 != 0:\n",
    "        odd_num += 1\n",
    "    else:\n",
    "        pass\n",
    "    \n",
    "print(even_num)\n",
    "print(odd_num)"
   ]
  },
  {
   "cell_type": "code",
   "execution_count": 93,
   "metadata": {},
   "outputs": [
    {
     "data": {
      "text/plain": [
       "0"
      ]
     },
     "execution_count": 93,
     "metadata": {},
     "output_type": "execute_result"
    }
   ],
   "source": [
    "0 % 2"
   ]
  },
  {
   "cell_type": "code",
   "execution_count": null,
   "metadata": {},
   "outputs": [],
   "source": []
  }
 ],
 "metadata": {
  "kernelspec": {
   "display_name": "Python 3",
   "language": "python",
   "name": "python3"
  },
  "language_info": {
   "codemirror_mode": {
    "name": "ipython",
    "version": 3
   },
   "file_extension": ".py",
   "mimetype": "text/x-python",
   "name": "python",
   "nbconvert_exporter": "python",
   "pygments_lexer": "ipython3",
   "version": "3.7.6"
  }
 },
 "nbformat": 4,
 "nbformat_minor": 4
}
