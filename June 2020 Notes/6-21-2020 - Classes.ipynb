{
 "cells": [
  {
   "cell_type": "code",
   "execution_count": 12,
   "metadata": {},
   "outputs": [
    {
     "name": "stdout",
     "output_type": "stream",
     "text": [
      "Watasiwa Gurren Lagann\n",
      "Watasiwa Eva\n"
     ]
    }
   ],
   "source": [
    "class Robot:\n",
    "    def __init__(self, name, color, weight):  # init = initialization a.k.a. \"Constructor\"\n",
    "        self.name = name\n",
    "        self.color = color\n",
    "        self.weight = weight\n",
    "    def intro(self):  # A function inside a class is called a METHOD\n",
    "        print(\"Watasiwa \" + self.name)\n",
    "\n",
    "# r1 = Robot()  # link object 'r1' to class 'Robot'\n",
    "# r1.name = \"Gurren Lagann\"\n",
    "# r1.color = \"red\"\n",
    "# r1.weight = 30\n",
    "\n",
    "# r2 = Robot()\n",
    "# r2.name = \"Eva\"\n",
    "# r2.color = \"purple\"\n",
    "# r2.weight = 40\n",
    "\n",
    "r1.intro()\n",
    "r2.intro()"
   ]
  },
  {
   "cell_type": "code",
   "execution_count": 13,
   "metadata": {},
   "outputs": [],
   "source": [
    "class User:\n",
    "    pass"
   ]
  },
  {
   "cell_type": "code",
   "execution_count": 14,
   "metadata": {},
   "outputs": [],
   "source": [
    "user1 = User()  # instance of user or OBJECT"
   ]
  },
  {
   "cell_type": "code",
   "execution_count": 18,
   "metadata": {},
   "outputs": [
    {
     "name": "stdout",
     "output_type": "stream",
     "text": [
      "Mai Sakurajima\n"
     ]
    }
   ],
   "source": [
    "user1.first_name = \"Mai\"  # Field: Data attached to an object\n",
    "user1.last_name = \"Sakurajima\"\n",
    "print(user1.first_name, user1.last_name)"
   ]
  },
  {
   "cell_type": "code",
   "execution_count": 34,
   "metadata": {},
   "outputs": [],
   "source": [
    "import datetime\n",
    "class User:\n",
    "    \"\"\"Stores the name and birthday of members.\"\"\"\n",
    "    \n",
    "    def __init__(self, full_name, birthday):\n",
    "        self.name = full_name\n",
    "        self.birthday = birthday\n",
    "        \n",
    "        name_pieces = full_name.split(\" \") # splits name wherecer these is a \" \" or space\n",
    "        self.first_name = name_pieces[0]\n",
    "        self.last_name = name_pieces[-1]\n",
    "    def age(self):\n",
    "        \"\"\"Returns the age of the user in years.\"\"\"\n",
    "        today = datetime.date(2020, 5, 15)\n",
    "        yyyy = int(self.birthday[0:4])\n",
    "        mm = int(self.birthday[4:6])\n",
    "        dd = int(self.birthday[6:8])\n",
    "        dob = datetime.date(yyyy, mm, dd)\n",
    "        age_in_days = (today - dob).days\n",
    "        age_in_years = age_in_days / 365\n",
    "        return int(age_in_years)\n",
    "        \n",
    "user = User(\"Arima Kousei\", \"19980723\")  # assigned 'user' to self"
   ]
  },
  {
   "cell_type": "code",
   "execution_count": 36,
   "metadata": {},
   "outputs": [
    {
     "name": "stdout",
     "output_type": "stream",
     "text": [
      "Arima Kousei\n",
      "Arima\n",
      "Kousei\n",
      "19980723\n",
      "21\n"
     ]
    }
   ],
   "source": [
    "print(user.name)\n",
    "print(user.first_name)\n",
    "print(user.last_name)\n",
    "print(user.birthday)\n",
    "print(user.age())"
   ]
  },
  {
   "cell_type": "code",
   "execution_count": 28,
   "metadata": {},
   "outputs": [
    {
     "name": "stdout",
     "output_type": "stream",
     "text": [
      "Help on class User in module __main__:\n",
      "\n",
      "class User(builtins.object)\n",
      " |  User(full_name, birthday)\n",
      " |  \n",
      " |  stores the name and birthday of members\n",
      " |  \n",
      " |  Methods defined here:\n",
      " |  \n",
      " |  __init__(self, full_name, birthday)\n",
      " |      Initialize self.  See help(type(self)) for accurate signature.\n",
      " |  \n",
      " |  ----------------------------------------------------------------------\n",
      " |  Data descriptors defined here:\n",
      " |  \n",
      " |  __dict__\n",
      " |      dictionary for instance variables (if defined)\n",
      " |  \n",
      " |  __weakref__\n",
      " |      list of weak references to the object (if defined)\n",
      "\n"
     ]
    }
   ],
   "source": [
    "help(User)"
   ]
  },
  {
   "cell_type": "code",
   "execution_count": null,
   "metadata": {},
   "outputs": [],
   "source": []
  },
  {
   "cell_type": "code",
   "execution_count": null,
   "metadata": {},
   "outputs": [],
   "source": []
  }
 ],
 "metadata": {
  "kernelspec": {
   "display_name": "Python 3",
   "language": "python",
   "name": "python3"
  },
  "language_info": {
   "codemirror_mode": {
    "name": "ipython",
    "version": 3
   },
   "file_extension": ".py",
   "mimetype": "text/x-python",
   "name": "python",
   "nbconvert_exporter": "python",
   "pygments_lexer": "ipython3",
   "version": "3.7.6"
  }
 },
 "nbformat": 4,
 "nbformat_minor": 4
}
