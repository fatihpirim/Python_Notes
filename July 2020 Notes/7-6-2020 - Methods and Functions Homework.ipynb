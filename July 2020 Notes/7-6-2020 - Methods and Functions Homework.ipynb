{
 "cells": [
  {
   "cell_type": "markdown",
   "metadata": {},
   "source": [
    "Finds Volume of Sphere"
   ]
  },
  {
   "cell_type": "code",
   "execution_count": 5,
   "metadata": {},
   "outputs": [],
   "source": [
    "import math\n",
    "def vol(rad):\n",
    "    return (4/3)*math.pi*(rad**3)"
   ]
  },
  {
   "cell_type": "code",
   "execution_count": 7,
   "metadata": {},
   "outputs": [
    {
     "data": {
      "text/plain": [
       "33.510321638291124"
      ]
     },
     "execution_count": 7,
     "metadata": {},
     "output_type": "execute_result"
    }
   ],
   "source": [
    "vol(2)"
   ]
  },
  {
   "cell_type": "markdown",
   "metadata": {},
   "source": [
    "Return True if Number is in Range"
   ]
  },
  {
   "cell_type": "code",
   "execution_count": 9,
   "metadata": {},
   "outputs": [],
   "source": [
    "def range_check(num, low, high):\n",
    "    return num in range(low,high+1)"
   ]
  },
  {
   "cell_type": "code",
   "execution_count": 11,
   "metadata": {},
   "outputs": [
    {
     "data": {
      "text/plain": [
       "True"
      ]
     },
     "execution_count": 11,
     "metadata": {},
     "output_type": "execute_result"
    }
   ],
   "source": [
    "range_check(10,0,10)"
   ]
  },
  {
   "cell_type": "markdown",
   "metadata": {},
   "source": [
    "Counts Uppercase and Lowercase letters in string"
   ]
  },
  {
   "cell_type": "code",
   "execution_count": 18,
   "metadata": {},
   "outputs": [],
   "source": [
    "def up_low(s):\n",
    "    lowercase = 0\n",
    "    uppercase = 0\n",
    "    \n",
    "    for letter in s:\n",
    "        if letter.isupper():\n",
    "            uppercase += 1\n",
    "        elif letter.islower():\n",
    "            lowercase += 1\n",
    "        else:\n",
    "            pass\n",
    "    print(\"lower: \" + str(lowercase))\n",
    "    print(\"upper: \" + str(uppercase))"
   ]
  },
  {
   "cell_type": "code",
   "execution_count": 19,
   "metadata": {},
   "outputs": [
    {
     "name": "stdout",
     "output_type": "stream",
     "text": [
      "lower: 8\n",
      "upper: 2\n"
     ]
    }
   ],
   "source": [
    "up_low(\"Hello There\")"
   ]
  },
  {
   "cell_type": "code",
   "execution_count": 22,
   "metadata": {},
   "outputs": [],
   "source": [
    "def up_low(s):\n",
    "    d = {\n",
    "        'upper':0,\n",
    "        'lower':0\n",
    "    }\n",
    "    \n",
    "    for letter in s:\n",
    "        if letter.isupper():\n",
    "            d['upper'] += 1\n",
    "        elif letter.islower():\n",
    "            d['lower'] += 1\n",
    "        else:\n",
    "            pass\n",
    "    print(\"lower: \" + str(d['lower']))\n",
    "    print(\"upper: \" + str(d['upper']))"
   ]
  },
  {
   "cell_type": "code",
   "execution_count": 23,
   "metadata": {},
   "outputs": [
    {
     "name": "stdout",
     "output_type": "stream",
     "text": [
      "lower: 10\n",
      "upper: 3\n"
     ]
    }
   ],
   "source": [
    "up_low('Hello My Friend')"
   ]
  },
  {
   "cell_type": "markdown",
   "metadata": {},
   "source": [
    "Returns all unique numbers in a list"
   ]
  },
  {
   "cell_type": "code",
   "execution_count": 52,
   "metadata": {},
   "outputs": [],
   "source": [
    "def unique_list(lst):\n",
    "    newlist = []\n",
    "    for num in lst:\n",
    "        if num not in newlist:\n",
    "            newlist.append(num)\n",
    "    return newlist"
   ]
  },
  {
   "cell_type": "code",
   "execution_count": 44,
   "metadata": {},
   "outputs": [],
   "source": [
    "samplelist = [1,1,1,1,1,1,1,2,2,2,2,3,3,3,3,3,4,4,4,5,5,5,5,6,6,6]"
   ]
  },
  {
   "cell_type": "code",
   "execution_count": 45,
   "metadata": {},
   "outputs": [
    {
     "data": {
      "text/plain": [
       "[1, 2, 3, 4, 5, 6]"
      ]
     },
     "execution_count": 45,
     "metadata": {},
     "output_type": "execute_result"
    }
   ],
   "source": [
    "unique_list(samplelist)"
   ]
  },
  {
   "cell_type": "markdown",
   "metadata": {},
   "source": [
    "Multiplies all numbers in list"
   ]
  },
  {
   "cell_type": "code",
   "execution_count": 53,
   "metadata": {},
   "outputs": [],
   "source": [
    "def multiply(lst):\n",
    "    total = 1\n",
    "    for num in lst:\n",
    "        total *= num\n",
    "    return(total)"
   ]
  },
  {
   "cell_type": "code",
   "execution_count": 54,
   "metadata": {},
   "outputs": [
    {
     "data": {
      "text/plain": [
       "-30"
      ]
     },
     "execution_count": 54,
     "metadata": {},
     "output_type": "execute_result"
    }
   ],
   "source": [
    "mylist = [1,3,5,-2,]\n",
    "multiply(mylist)"
   ]
  },
  {
   "cell_type": "markdown",
   "metadata": {},
   "source": [
    "Checks if word is palindrome or not"
   ]
  },
  {
   "cell_type": "code",
   "execution_count": 117,
   "metadata": {},
   "outputs": [],
   "source": [
    "def palindrome(strng):\n",
    "    newstrng = strng.lower().replace(\" \",\"\")  #lower cases all letters and replace all white space with no space\n",
    "    if newstrng[::] == newstrng[::-1]:  #checks if reverse index is equal to normal index\n",
    "        print(\"This is a palindrome: \" + newstrng[::] + \" --- \" + newstrng[::-1])\n",
    "    else:\n",
    "        print(\"This is NOT a palindrome: \" + newstrng[::] + \" --- \" + newstrng[::-1])\n",
    "        "
   ]
  },
  {
   "cell_type": "code",
   "execution_count": 121,
   "metadata": {},
   "outputs": [
    {
     "name": "stdout",
     "output_type": "stream",
     "text": [
      "This is a palindrome: nursesrun --- nursesrun\n"
     ]
    }
   ],
   "source": [
    "palindrome(\"nurses run\")"
   ]
  },
  {
   "cell_type": "markdown",
   "metadata": {},
   "source": [
    "Check if string has every letter of the alphabet"
   ]
  },
  {
   "cell_type": "code",
   "execution_count": 203,
   "metadata": {},
   "outputs": [],
   "source": [
    "def ispangram_v1(strng):\n",
    "    # define alphabet by turning alphabet string into a list\n",
    "    alphabet = list('abcdefghijklmnopqrstuvwxyz')\n",
    "    # make the whole string lowercase and remove all spaces\n",
    "    newstrng = strng.lower().replace(\" \",\"\")\n",
    "    # turn new string into a set to remove duplicate letters\n",
    "    newset = set(newstrng)\n",
    "    # traverse through every letter in the set\n",
    "    for letter in newset:\n",
    "    # if a letter in new set is in the alphabet, remove letter from alphabet\n",
    "        if letter in alphabet:\n",
    "            alphabet.remove(letter)\n",
    "        else:\n",
    "            return False\n",
    "    # if string contains every letter of alphabet, all letters must be removed and alphabet must contain nothing\n",
    "    if len(alphabet) == 0:\n",
    "        return True\n",
    "    else:\n",
    "        return False\n",
    "        "
   ]
  },
  {
   "cell_type": "code",
   "execution_count": 204,
   "metadata": {},
   "outputs": [
    {
     "data": {
      "text/plain": [
       "True"
      ]
     },
     "execution_count": 204,
     "metadata": {},
     "output_type": "execute_result"
    }
   ],
   "source": [
    "mystring = 'aaaabbbbcccdddeeeffghijklmnopqrstuwxyzv'\n",
    "ispangram_v1(mystring) "
   ]
  },
  {
   "cell_type": "code",
   "execution_count": 198,
   "metadata": {},
   "outputs": [
    {
     "data": {
      "text/plain": [
       "False"
      ]
     },
     "execution_count": 198,
     "metadata": {},
     "output_type": "execute_result"
    }
   ],
   "source": [
    "mystring = 'Te quik brow foks jums ovr te laysee dowg'\n",
    "ispangram_v1(mystring) "
   ]
  },
  {
   "cell_type": "code",
   "execution_count": 199,
   "metadata": {},
   "outputs": [],
   "source": [
    "import string\n",
    "\n",
    "def ispangram_v2(str1, alphabet=string.ascii_lowercase):\n",
    "    \n",
    "    # Create a set of the alphabet\n",
    "    alphaset = set(alphabet)\n",
    "    # Remove any spaces from the input string\n",
    "    str1 = str1.replace(' ','')\n",
    "    # Convert into all lowercase\n",
    "    str1 = str1.lower()\n",
    "    # Grab all uniqute letters from string set()\n",
    "    str1 = set(str1)\n",
    "    # alphabet set == string set input\n",
    "    return str1 == alphaset\n",
    "\n"
   ]
  },
  {
   "cell_type": "code",
   "execution_count": 200,
   "metadata": {},
   "outputs": [
    {
     "data": {
      "text/plain": [
       "True"
      ]
     },
     "execution_count": 200,
     "metadata": {},
     "output_type": "execute_result"
    }
   ],
   "source": [
    "mystring = 'The quick brown fox jumps over the lazy dog'\n",
    "ispangram_v2(mystring) "
   ]
  },
  {
   "cell_type": "code",
   "execution_count": null,
   "metadata": {},
   "outputs": [],
   "source": []
  }
 ],
 "metadata": {
  "kernelspec": {
   "display_name": "Python 3",
   "language": "python",
   "name": "python3"
  },
  "language_info": {
   "codemirror_mode": {
    "name": "ipython",
    "version": 3
   },
   "file_extension": ".py",
   "mimetype": "text/x-python",
   "name": "python",
   "nbconvert_exporter": "python",
   "pygments_lexer": "ipython3",
   "version": "3.7.6"
  }
 },
 "nbformat": 4,
 "nbformat_minor": 4
}
