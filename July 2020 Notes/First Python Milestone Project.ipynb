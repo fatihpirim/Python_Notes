{
 "cells": [
  {
   "cell_type": "code",
   "execution_count": 2,
   "metadata": {},
   "outputs": [
    {
     "name": "stdout",
     "output_type": "stream",
     "text": [
      "c0 c1 c2\n",
      "-------\n",
      "| | | | r0\n",
      "-------\n",
      "| | | | r1\n",
      "-------\n",
      "| | | | r2\n",
      "-------\n"
     ]
    }
   ],
   "source": [
    "row0 = [' ',' ',' ']\n",
    "row1 = [' ',' ',' ']\n",
    "row2 = [' ',' ',' ']\n",
    "\n",
    "def game_board():\n",
    "    # ROWS\n",
    "    print(\"c0 c1 c2\")\n",
    "    print(\"-------\")\n",
    "    print(\"|\" + row0[0] + \"|\" + row0[1] + \"|\" + row0[2] + \"| r0\")\n",
    "    print(\"-------\")\n",
    "    print(\"|\" + row1[0] + \"|\" + row1[1] + \"|\" + row1[2] + \"| r1\")\n",
    "    print(\"-------\")\n",
    "    print(\"|\" + row2[0] + \"|\" + row2[1] + \"|\" + row2[2] + \"| r2\")\n",
    "    print(\"-------\")\n",
    "game_board()"
   ]
  },
  {
   "cell_type": "code",
   "execution_count": 3,
   "metadata": {},
   "outputs": [],
   "source": [
    "def position():\n",
    "    #VARIABLES\n",
    "    acceptable_range = range(0,3)\n",
    "    within_range = False\n",
    "    choice_row = 'WRONG'\n",
    "    choice_column = 'WRONG'\n",
    "    #EVALUATE INPUT\n",
    "    while choice_column.isdigit() == False or within_range==False:\n",
    "        \n",
    "        choice_column = input(\"To select a column, Please enter a number (0-2): \")\n",
    "         # DIGIT CHECK\n",
    "        if choice_column.isdigit() == False:\n",
    "            print(\"Sorry that is not a digit\")\n",
    "            \n",
    "        if choice_column.isdigit() == True:\n",
    "            if int(choice_column) in acceptable_range:\n",
    "                within_range = True\n",
    "            else:\n",
    "                within_range = False\n",
    "                print(\"Sorry, you are out of acceptable range\")\n",
    "    while choice_row.isdigit() == False or within_range==False:\n",
    "        \n",
    "        choice_row = input(\"To select a row, Please enter a number (0-2): \")\n",
    "         # DIGIT CHECK\n",
    "        if choice_row.isdigit() == False:\n",
    "            print(\"Sorry that is not a digit\")\n",
    "            \n",
    "        if choice_row.isdigit() == True:\n",
    "            if int(choice_row) in acceptable_range:\n",
    "                within_range = True\n",
    "            else:\n",
    "                within_range = False\n",
    "                print(\"Sorry, you are out of acceptable range\")\n",
    "            \n",
    " \n",
    "    \n",
    "    c = int(choice_column)\n",
    "    r = int(choice_row)\n",
    "    coords = [c,r]\n",
    "    return coords\n"
   ]
  },
  {
   "cell_type": "code",
   "execution_count": 4,
   "metadata": {},
   "outputs": [],
   "source": [
    "row0 = [' ',' ',' ']\n",
    "row1 = [' ',' ',' ']\n",
    "row2 = [' ',' ',' ']"
   ]
  },
  {
   "cell_type": "code",
   "execution_count": 5,
   "metadata": {},
   "outputs": [],
   "source": [
    "def replace(position):\n",
    "    r = position[1]\n",
    "    c = position[0]\n",
    "    if turn_count % 2 == 0:\n",
    "        if r == 0:\n",
    "            row0[c] = 'O'\n",
    "        elif r == 1:\n",
    "            row1[c] = 'O'\n",
    "        else:\n",
    "            row2[c] = 'O'\n",
    "    elif turn_count % 2 != 0:\n",
    "        if r == 0:\n",
    "            row0[c] = 'X'\n",
    "        elif r == 1:\n",
    "            row1[c] = 'X'\n",
    "        else:\n",
    "            row2[c] = 'X' \n",
    "    game_board()"
   ]
  },
  {
   "cell_type": "code",
   "execution_count": 6,
   "metadata": {},
   "outputs": [],
   "source": [
    "def game():\n",
    "    while True:\n",
    "        # VERTICAL\n",
    "        if row0[0]+row1[0]+row2[0] == 'XXX' or row0[0]+row1[0]+row2[0] == 'OOO':\n",
    "            print(\"Game over, Player wins!\")\n",
    "            break\n",
    "        elif row0[1]+row1[1]+row2[1] == 'XXX'  or row0[1]+row1[1]+row2[1] == 'OOO'  :\n",
    "            print(\"Game over, Player wins!\")\n",
    "            break\n",
    "        elif row0[2]+row1[2]+row2[2] == 'XXX'  or row0[2]+row1[2]+row2[2] == 'OOO' :\n",
    "            print(\"Game over, Player wins!\")\n",
    "            break\n",
    "        \n",
    "        # HORIZONTAL\n",
    "        elif row0[0]+row0[1]+row0[2] == 'XXX'  or row0[0]+row0[1]+row0[2] == 'OOO' :\n",
    "            print(\"Game over, Player wins!\")\n",
    "            break\n",
    "        elif row1[0]+row1[1]+row1[2] == 'XXX' or row1[0]+row1[1]+row1[2] == 'OOO' :\n",
    "            print(\"Game over, Playe wins!\")\n",
    "            break\n",
    "        elif row2[0]+row2[1]+row2[2] == 'XXX' or row2[0]+row2[1]+row2[2] == 'OOO' :\n",
    "            print(\"Game over, Player wins!\")\n",
    "            break\n",
    "    \n",
    "        # DIAGONAL\n",
    "        elif row0[0]+row1[1]+row2[2] == 'XXX' or row0[0]+row1[1]+row2[2] == 'OOO'  :\n",
    "            print(\"Game over, Player wins!\")\n",
    "            break\n",
    "        elif row2[0]+row1[1]+row0[2] == 'XXX' or row2[0]+row1[1]+row0[2] == 'OOO' :\n",
    "            print(\"Game over, Player wins!\")\n",
    "            break\n"
   ]
  },
  {
   "cell_type": "code",
   "execution_count": null,
   "metadata": {},
   "outputs": [],
   "source": [
    "game_on = True\n",
    "row0 = [' ',' ',' ']\n",
    "row1 = [' ',' ',' ']\n",
    "row2 = [' ',' ',' ']\n",
    "\n",
    "game()"
   ]
  },
  {
   "cell_type": "code",
   "execution_count": null,
   "metadata": {},
   "outputs": [],
   "source": []
  },
  {
   "cell_type": "code",
   "execution_count": null,
   "metadata": {},
   "outputs": [],
   "source": []
  },
  {
   "cell_type": "code",
   "execution_count": null,
   "metadata": {},
   "outputs": [],
   "source": []
  }
 ],
 "metadata": {
  "kernelspec": {
   "display_name": "Python 3",
   "language": "python",
   "name": "python3"
  },
  "language_info": {
   "codemirror_mode": {
    "name": "ipython",
    "version": 3
   },
   "file_extension": ".py",
   "mimetype": "text/x-python",
   "name": "python",
   "nbconvert_exporter": "python",
   "pygments_lexer": "ipython3",
   "version": "3.7.6"
  }
 },
 "nbformat": 4,
 "nbformat_minor": 4
}
