{
 "cells": [
  {
   "cell_type": "code",
   "execution_count": 2,
   "metadata": {},
   "outputs": [
    {
     "data": {
      "text/plain": [
       "'C:\\\\Users\\\\muzaf\\\\Python Notes\\\\July 2020 Notes'"
      ]
     },
     "execution_count": 2,
     "metadata": {},
     "output_type": "execute_result"
    }
   ],
   "source": [
    "pwd"
   ]
  },
  {
   "cell_type": "code",
   "execution_count": 3,
   "metadata": {},
   "outputs": [
    {
     "name": "stdout",
     "output_type": "stream",
     "text": [
      "C:\\Users\\muzaf\n"
     ]
    }
   ],
   "source": [
    "cd ~"
   ]
  },
  {
   "cell_type": "code",
   "execution_count": 4,
   "metadata": {},
   "outputs": [
    {
     "name": "stdout",
     "output_type": "stream",
     "text": [
      "C:\\Users\\muzaf\\Desktop\n"
     ]
    }
   ],
   "source": [
    "cd Desktop"
   ]
  },
  {
   "cell_type": "code",
   "execution_count": 6,
   "metadata": {},
   "outputs": [
    {
     "name": "stdout",
     "output_type": "stream",
     "text": [
      "no, fruit, amount\n",
      "1, Banana, 4 lb\n",
      "2, Orange, 5 lb\n",
      "3, Apple, 2 lb\n",
      "4, Strawberry, 6 lb\n",
      "5, Cherry, 3 lb\n"
     ]
    }
   ],
   "source": [
    "with open(\"fruits.csv\", 'r', encoding='utf-8') as file:\n",
    "    print(file.read())"
   ]
  },
  {
   "cell_type": "code",
   "execution_count": 7,
   "metadata": {},
   "outputs": [
    {
     "name": "stdout",
     "output_type": "stream",
     "text": [
      "row number, first name, last name, ages\n",
      "1, Jack, Douglass, 31\n",
      "2, Beth, Smith, 24\n",
      "3, Ryan, Jackson, 21\n",
      "4, Lana, Gomez, 42\n",
      "5, Alex, Ohanian, 50\n"
     ]
    }
   ],
   "source": [
    "with open(\"people.csv\", 'r', encoding='utf-8') as file:\n",
    "    print(file.read())"
   ]
  },
  {
   "cell_type": "code",
   "execution_count": 11,
   "metadata": {},
   "outputs": [
    {
     "name": "stdout",
     "output_type": "stream",
     "text": [
      "['no', ' fruit', ' amount']\n",
      "['1', ' Banana', ' 4 lb']\n",
      "['2', ' Orange', ' 5 lb']\n",
      "['3', ' Apple', ' 2 lb']\n",
      "['4', ' Strawberry', ' 6 lb']\n",
      "['5', ' Cherry', ' 3 lb']\n"
     ]
    }
   ],
   "source": [
    "import csv\n",
    "\n",
    "with open(\"fruits.csv\", 'r', newline = '', encoding='utf-8') as file:\n",
    "    csv_rows = csv.reader(file)\n",
    "    \n",
    "    for row in csv_rows:\n",
    "        print(row)\n"
   ]
  },
  {
   "cell_type": "code",
   "execution_count": 1,
   "metadata": {},
   "outputs": [
    {
     "name": "stdout",
     "output_type": "stream",
     "text": [
      "first number: 10\n",
      "second number: 0\n",
      "something went wrong\n"
     ]
    }
   ],
   "source": [
    "while True:\n",
    "    a = int(input(\"first number: \"))\n",
    "    b = int(input(\"second number: \"))\n",
    "    try:\n",
    "        c = a/b\n",
    "        print(c)\n",
    "        break\n",
    "    except:\n",
    "        print(\"something went wrong\")\n",
    "        break"
   ]
  },
  {
   "cell_type": "code",
   "execution_count": null,
   "metadata": {},
   "outputs": [],
   "source": []
  },
  {
   "cell_type": "code",
   "execution_count": null,
   "metadata": {},
   "outputs": [],
   "source": []
  }
 ],
 "metadata": {
  "kernelspec": {
   "display_name": "Python 3",
   "language": "python",
   "name": "python3"
  },
  "language_info": {
   "codemirror_mode": {
    "name": "ipython",
    "version": 3
   },
   "file_extension": ".py",
   "mimetype": "text/x-python",
   "name": "python",
   "nbconvert_exporter": "python",
   "pygments_lexer": "ipython3",
   "version": "3.7.6"
  }
 },
 "nbformat": 4,
 "nbformat_minor": 4
}
