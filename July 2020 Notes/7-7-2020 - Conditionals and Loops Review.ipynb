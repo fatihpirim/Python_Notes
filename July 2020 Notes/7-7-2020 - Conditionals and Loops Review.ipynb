{
 "cells": [
  {
   "cell_type": "code",
   "execution_count": null,
   "metadata": {},
   "outputs": [],
   "source": [
    "def gradebook():\n",
    "    while True:\n",
    "        try:\n",
    "            grade = int(input('What is your grade? '))\n",
    "        except ValueError:\n",
    "            print(\"Sorry, I didn't understand that.\")\n",
    "            continue\n",
    "        else:\n",
    "            break\n",
    "    \n",
    "    if grade >= 90:\n",
    "        print(\"Your grade is an A. Great job!\")\n",
    "    elif grade >= 80:\n",
    "        print(\"Your grade is an B. Good work.\")\n",
    "    elif grade >= 70:\n",
    "        print(\"Your grade is an C. Just a little bit more work.\")\n",
    "    elif grade >= 60:\n",
    "        print(\"Your grade is an D. Put in more effort.\")\n",
    "    elif grade >= 0:\n",
    "        print(\"Your grade is an F. You failed!\")"
   ]
  },
  {
   "cell_type": "code",
   "execution_count": null,
   "metadata": {},
   "outputs": [],
   "source": [
    "gradebook()"
   ]
  },
  {
   "cell_type": "code",
   "execution_count": 1,
   "metadata": {},
   "outputs": [
    {
     "name": "stdout",
     "output_type": "stream",
     "text": [
      "Enter your age please: 17\n",
      "Great! You entered valid input: 17\n"
     ]
    }
   ],
   "source": [
    "age = input(\"Enter your age please: \")\n",
    "\n",
    "while not age.isdigit():\n",
    "    print(\"You entered incorrectly.\")\n",
    "    age = input(\"Enter your age please: \")\n",
    "    \n",
    "print(f\"Great! You entered valid input: {age}\")"
   ]
  },
  {
   "cell_type": "code",
   "execution_count": 4,
   "metadata": {},
   "outputs": [
    {
     "name": "stdout",
     "output_type": "stream",
     "text": [
      "[1, 2, 3, 4, 5]\n"
     ]
    }
   ],
   "source": [
    "mylist = []\n",
    "count = 0\n",
    "for num in range(0,5):\n",
    "    count += 1\n",
    "    mylist.append(count)\n",
    "print(mylist)"
   ]
  },
  {
   "cell_type": "code",
   "execution_count": null,
   "metadata": {},
   "outputs": [],
   "source": []
  }
 ],
 "metadata": {
  "kernelspec": {
   "display_name": "Python 3",
   "language": "python",
   "name": "python3"
  },
  "language_info": {
   "codemirror_mode": {
    "name": "ipython",
    "version": 3
   },
   "file_extension": ".py",
   "mimetype": "text/x-python",
   "name": "python",
   "nbconvert_exporter": "python",
   "pygments_lexer": "ipython3",
   "version": "3.7.6"
  }
 },
 "nbformat": 4,
 "nbformat_minor": 4
}
